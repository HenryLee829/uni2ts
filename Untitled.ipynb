{
 "cells": [
  {
   "cell_type": "code",
   "execution_count": 1,
   "id": "a9305d5a-4a6a-4b9e-8da6-75d9a20b6f61",
   "metadata": {},
   "outputs": [],
   "source": [
    "from collections.abc import Generator\n",
    "from pathlib import Path\n",
    "from typing import Any\n",
    "\n",
    "import datasets\n",
    "import pandas as pd\n",
    "from datasets import Features, Sequence, Value"
   ]
  },
  {
   "cell_type": "code",
   "execution_count": 2,
   "id": "3fd33c5f-f254-4bd6-a433-89bab293e260",
   "metadata": {},
   "outputs": [],
   "source": [
    "ds_multi = datasets.load_from_disk(\"swat_dataset_multi\").with_format(\"numpy\")"
   ]
  },
  {
   "cell_type": "code",
   "execution_count": 3,
   "id": "c27601b2-405f-4919-8938-9401bc111f6f",
   "metadata": {},
   "outputs": [
    {
     "data": {
      "text/plain": [
       "1"
      ]
     },
     "execution_count": 3,
     "metadata": {},
     "output_type": "execute_result"
    }
   ],
   "source": [
    "len(ds_multi)"
   ]
  },
  {
   "cell_type": "code",
   "execution_count": 4,
   "id": "33f8e743-9fd0-4b5e-b7b0-8dfbebafde47",
   "metadata": {},
   "outputs": [
    {
     "data": {
      "text/plain": [
       "dict_keys(['target', 'start', 'freq', 'item_id'])"
      ]
     },
     "execution_count": 4,
     "metadata": {},
     "output_type": "execute_result"
    }
   ],
   "source": [
    "ds_multi[0].keys()"
   ]
  },
  {
   "cell_type": "code",
   "execution_count": 5,
   "id": "503eec0f-49d0-4376-a826-1e144f093274",
   "metadata": {},
   "outputs": [
    {
     "data": {
      "text/plain": [
       "(52, 475200)"
      ]
     },
     "execution_count": 5,
     "metadata": {},
     "output_type": "execute_result"
    }
   ],
   "source": [
    "ds_multi[0][\"target\"].shape"
   ]
  }
 ],
 "metadata": {
  "kernelspec": {
   "display_name": "Python 3 (ipykernel)",
   "language": "python",
   "name": "python3"
  },
  "language_info": {
   "codemirror_mode": {
    "name": "ipython",
    "version": 3
   },
   "file_extension": ".py",
   "mimetype": "text/x-python",
   "name": "python",
   "nbconvert_exporter": "python",
   "pygments_lexer": "ipython3",
   "version": "3.12.3"
  }
 },
 "nbformat": 4,
 "nbformat_minor": 5
}
